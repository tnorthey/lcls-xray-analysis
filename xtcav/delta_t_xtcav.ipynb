{
 "cells": [
  {
   "cell_type": "code",
   "execution_count": 2,
   "id": "6805d9ab-607c-4177-ad7d-f06ededd1ed1",
   "metadata": {},
   "outputs": [
    {
     "name": "stdout",
     "output_type": "stream",
     "text": [
      "[-40.         -38.36734694 -36.73469388 -35.10204082 -33.46938776\n",
      " -31.83673469 -30.20408163 -28.57142857 -26.93877551 -25.30612245\n",
      " -23.67346939 -22.04081633 -20.40816327 -18.7755102  -17.14285714\n",
      " -15.51020408 -13.87755102 -12.24489796 -10.6122449   -8.97959184\n",
      "  -7.34693878  -5.71428571  -4.08163265  -2.44897959  -0.81632653\n",
      "   0.81632653   2.44897959   4.08163265   5.71428571   7.34693878\n",
      "   8.97959184  10.6122449   12.24489796  13.87755102  15.51020408\n",
      "  17.14285714  18.7755102   20.40816327  22.04081633  23.67346939\n",
      "  25.30612245  26.93877551  28.57142857  30.20408163  31.83673469\n",
      "  33.46938776  35.10204082  36.73469388  38.36734694  40.        ]\n",
      "Opened /reg/d/psdm/cxi/cxilv0418/scratch/northeyt/xtcav_stats_run43.h5\n",
      "(62778, 128)\n",
      "(62778, 128)\n"
     ]
    },
    {
     "ename": "ValueError",
     "evalue": "x and y arrays must be equal in length along interpolation axis.",
     "output_type": "error",
     "traceback": [
      "\u001b[0;31m---------------------------------------------------------------------------\u001b[0m",
      "\u001b[0;31mValueError\u001b[0m                                Traceback (most recent call last)",
      "\u001b[0;32m/tmp/ipykernel_11151/203684579.py\u001b[0m in \u001b[0;36m<module>\u001b[0;34m\u001b[0m\n\u001b[1;32m     35\u001b[0m     \u001b[0mprint\u001b[0m\u001b[0;34m(\u001b[0m\u001b[0mpowerCOM\u001b[0m\u001b[0;34m.\u001b[0m\u001b[0mshape\u001b[0m\u001b[0;34m)\u001b[0m\u001b[0;34m\u001b[0m\u001b[0;34m\u001b[0m\u001b[0m\n\u001b[1;32m     36\u001b[0m     \u001b[0mprint\u001b[0m\u001b[0;34m(\u001b[0m\u001b[0mtCOM\u001b[0m\u001b[0;34m.\u001b[0m\u001b[0mshape\u001b[0m\u001b[0;34m)\u001b[0m\u001b[0;34m\u001b[0m\u001b[0;34m\u001b[0m\u001b[0m\n\u001b[0;32m---> 37\u001b[0;31m     \u001b[0mpt_function\u001b[0m \u001b[0;34m=\u001b[0m \u001b[0minterpolate\u001b[0m\u001b[0;34m.\u001b[0m\u001b[0minterp1d\u001b[0m\u001b[0;34m(\u001b[0m\u001b[0mtCOM\u001b[0m\u001b[0;34m,\u001b[0m \u001b[0mpowerCOM\u001b[0m\u001b[0;34m)\u001b[0m\u001b[0;34m\u001b[0m\u001b[0;34m\u001b[0m\u001b[0m\n\u001b[0m\u001b[1;32m     38\u001b[0m     \u001b[0;32mif\u001b[0m \u001b[0mc\u001b[0m\u001b[0;34m==\u001b[0m\u001b[0;36m1\u001b[0m\u001b[0;34m:\u001b[0m\u001b[0;34m\u001b[0m\u001b[0;34m\u001b[0m\u001b[0m\n\u001b[1;32m     39\u001b[0m         \u001b[0mpower\u001b[0m \u001b[0;34m=\u001b[0m \u001b[0mpt_function\u001b[0m\u001b[0;34m(\u001b[0m\u001b[0mt\u001b[0m\u001b[0;34m)\u001b[0m\u001b[0;34m\u001b[0m\u001b[0;34m\u001b[0m\u001b[0m\n",
      "\u001b[0;32m/cds/sw/ds/ana/conda1/inst/envs/ana-4.0.43-py3/lib/python3.7/site-packages/scipy/interpolate/interpolate.py\u001b[0m in \u001b[0;36m__init__\u001b[0;34m(self, x, y, kind, axis, copy, bounds_error, fill_value, assume_sorted)\u001b[0m\n\u001b[1;32m    434\u001b[0m                  assume_sorted=False):\n\u001b[1;32m    435\u001b[0m         \u001b[0;34m\"\"\" Initialize a 1-D linear interpolation class.\"\"\"\u001b[0m\u001b[0;34m\u001b[0m\u001b[0;34m\u001b[0m\u001b[0m\n\u001b[0;32m--> 436\u001b[0;31m         \u001b[0m_Interpolator1D\u001b[0m\u001b[0;34m.\u001b[0m\u001b[0m__init__\u001b[0m\u001b[0;34m(\u001b[0m\u001b[0mself\u001b[0m\u001b[0;34m,\u001b[0m \u001b[0mx\u001b[0m\u001b[0;34m,\u001b[0m \u001b[0my\u001b[0m\u001b[0;34m,\u001b[0m \u001b[0maxis\u001b[0m\u001b[0;34m=\u001b[0m\u001b[0maxis\u001b[0m\u001b[0;34m)\u001b[0m\u001b[0;34m\u001b[0m\u001b[0;34m\u001b[0m\u001b[0m\n\u001b[0m\u001b[1;32m    437\u001b[0m \u001b[0;34m\u001b[0m\u001b[0m\n\u001b[1;32m    438\u001b[0m         \u001b[0mself\u001b[0m\u001b[0;34m.\u001b[0m\u001b[0mbounds_error\u001b[0m \u001b[0;34m=\u001b[0m \u001b[0mbounds_error\u001b[0m  \u001b[0;31m# used by fill_value setter\u001b[0m\u001b[0;34m\u001b[0m\u001b[0;34m\u001b[0m\u001b[0m\n",
      "\u001b[0;32m/cds/sw/ds/ana/conda1/inst/envs/ana-4.0.43-py3/lib/python3.7/site-packages/scipy/interpolate/polyint.py\u001b[0m in \u001b[0;36m__init__\u001b[0;34m(self, xi, yi, axis)\u001b[0m\n\u001b[1;32m     52\u001b[0m         \u001b[0mself\u001b[0m\u001b[0;34m.\u001b[0m\u001b[0mdtype\u001b[0m \u001b[0;34m=\u001b[0m \u001b[0;32mNone\u001b[0m\u001b[0;34m\u001b[0m\u001b[0;34m\u001b[0m\u001b[0m\n\u001b[1;32m     53\u001b[0m         \u001b[0;32mif\u001b[0m \u001b[0myi\u001b[0m \u001b[0;32mis\u001b[0m \u001b[0;32mnot\u001b[0m \u001b[0;32mNone\u001b[0m\u001b[0;34m:\u001b[0m\u001b[0;34m\u001b[0m\u001b[0;34m\u001b[0m\u001b[0m\n\u001b[0;32m---> 54\u001b[0;31m             \u001b[0mself\u001b[0m\u001b[0;34m.\u001b[0m\u001b[0m_set_yi\u001b[0m\u001b[0;34m(\u001b[0m\u001b[0myi\u001b[0m\u001b[0;34m,\u001b[0m \u001b[0mxi\u001b[0m\u001b[0;34m=\u001b[0m\u001b[0mxi\u001b[0m\u001b[0;34m,\u001b[0m \u001b[0maxis\u001b[0m\u001b[0;34m=\u001b[0m\u001b[0maxis\u001b[0m\u001b[0;34m)\u001b[0m\u001b[0;34m\u001b[0m\u001b[0;34m\u001b[0m\u001b[0m\n\u001b[0m\u001b[1;32m     55\u001b[0m \u001b[0;34m\u001b[0m\u001b[0m\n\u001b[1;32m     56\u001b[0m     \u001b[0;32mdef\u001b[0m \u001b[0m__call__\u001b[0m\u001b[0;34m(\u001b[0m\u001b[0mself\u001b[0m\u001b[0;34m,\u001b[0m \u001b[0mx\u001b[0m\u001b[0;34m)\u001b[0m\u001b[0;34m:\u001b[0m\u001b[0;34m\u001b[0m\u001b[0;34m\u001b[0m\u001b[0m\n",
      "\u001b[0;32m/cds/sw/ds/ana/conda1/inst/envs/ana-4.0.43-py3/lib/python3.7/site-packages/scipy/interpolate/polyint.py\u001b[0m in \u001b[0;36m_set_yi\u001b[0;34m(self, yi, xi, axis)\u001b[0m\n\u001b[1;32m    122\u001b[0m             \u001b[0mshape\u001b[0m \u001b[0;34m=\u001b[0m \u001b[0;34m(\u001b[0m\u001b[0;36m1\u001b[0m\u001b[0;34m,\u001b[0m\u001b[0;34m)\u001b[0m\u001b[0;34m\u001b[0m\u001b[0;34m\u001b[0m\u001b[0m\n\u001b[1;32m    123\u001b[0m         \u001b[0;32mif\u001b[0m \u001b[0mxi\u001b[0m \u001b[0;32mis\u001b[0m \u001b[0;32mnot\u001b[0m \u001b[0;32mNone\u001b[0m \u001b[0;32mand\u001b[0m \u001b[0mshape\u001b[0m\u001b[0;34m[\u001b[0m\u001b[0maxis\u001b[0m\u001b[0;34m]\u001b[0m \u001b[0;34m!=\u001b[0m \u001b[0mlen\u001b[0m\u001b[0;34m(\u001b[0m\u001b[0mxi\u001b[0m\u001b[0;34m)\u001b[0m\u001b[0;34m:\u001b[0m\u001b[0;34m\u001b[0m\u001b[0;34m\u001b[0m\u001b[0m\n\u001b[0;32m--> 124\u001b[0;31m             raise ValueError(\"x and y arrays must be equal in length along \"\n\u001b[0m\u001b[1;32m    125\u001b[0m                              \"interpolation axis.\")\n\u001b[1;32m    126\u001b[0m \u001b[0;34m\u001b[0m\u001b[0m\n",
      "\u001b[0;31mValueError\u001b[0m: x and y arrays must be equal in length along interpolation axis."
     ]
    }
   ],
   "source": [
    "import h5py\n",
    "import numpy as np\n",
    "import matplotlib.pyplot as plt\n",
    "from scipy.signal import argrelextrema\n",
    "from scipy import interpolate\n",
    "\n",
    "import sys\n",
    "sys.path.append('../')\n",
    "# import my functions\n",
    "from define_experiment_run import experiment, run, scratch_dir, Nevents\n",
    "#runs = [43, 44, 45, 46, 47, 48, 56, 57, 61, 62, 63, 64, \n",
    "#       68, 70, 71, 72, 73, 74, 79, 80, 81, 82, 83]\n",
    "runs = [43, 44, 46, 47, 48, 56, 57, 61, 62, 63, 64, \n",
    "        68, 70, 71, 72, 73, 74, 79, 80, 81, 82, 83]\n",
    "\n",
    "empty = np.empty(0)\n",
    "agreement = empty\n",
    "dt = empty\n",
    "imax1 = empty\n",
    "imax2 = empty\n",
    "t = np.linspace(-40, 40, num=50)\n",
    "print(t)\n",
    "c = 0\n",
    "for run in runs:\n",
    "    fname = '%sxtcav_stats_run%d.h5' % (scratch_dir, run)\n",
    "    try:\n",
    "        f = h5py.File(fname, 'r')\n",
    "        print('Opened %s' % fname)\n",
    "    except IOError:\n",
    "        print('Could not open %s' % fname)\n",
    "        continue\n",
    "    c += 1\n",
    "    powerCOM = f['powerCOM']\n",
    "    tCOM = f['tCOM'][:]\n",
    "    print(powerCOM.shape)\n",
    "    print(tCOM.shape)\n",
    "    # choice here: do I have to interp every shot? That is time-consuming...\n",
    "    pt_function = interpolate.interp1d(tCOM, powerCOM)\n",
    "    if c==1:\n",
    "        power = pt_function(t)\n",
    "    else:\n",
    "        p_tmp = pt_function(t)\n",
    "        #print(tCOM.shape)\n",
    "        #t = np.append(t, tCOM, axis=0)\n",
    "        #print(t.shape)\n",
    "        power = np.append(power, p_tmp)\n",
    "        print(power.shape)\n",
    "    #print(f)\n",
    "    #list(f.keys())\n",
    "    #tRMS = f['tRMS'][:]\n",
    "    #powerRMS = f['powerRMS']\n",
    "    #power = np.append(power, powerCOM)\n",
    "    # only look at COM now...\n",
    "    dt_COM = f['dt_COM']\n",
    "    dt = np.append(dt, dt_COM)\n",
    "    #print(dt_COM[:])\n",
    "    imax1_COM = f['imax1_COM'][:]\n",
    "    imax2_COM = f['imax2_COM'][:]\n",
    "    imax1 = np.append(imax1, imax1_COM)\n",
    "    imax2 = np.append(imax2, imax2_COM)\n",
    "    #print(imax1_COM)\n",
    "    #print(imax2_COM)\n",
    "    agree = f['agreement'][:]\n",
    "    agreement = np.append(agreement, agree)\n",
    "    #print('agreement:')\n",
    "    #print(agreement)\n",
    "\n",
    "n = 9\n",
    "print(t.shape)\n",
    "print(imax1[n])\n",
    "plt.plot(t[n, :], power[n, :])\n",
    "#plt.plot(tRMS[n, :], powerRMS[n, :], color='grey')\n",
    "plt.axvline(x=t[n, imax1[n]], color='black', linestyle='dashed')\n",
    "plt.axvline(x=t[n, imax2[n]], color='black', linestyle='dashed')\n",
    "\n",
    "print('agreement = %f' % agreement[n])\n",
    "print('dt = %f' % dt[n])\n"
   ]
  },
  {
   "cell_type": "code",
   "execution_count": 9,
   "id": "e921510b-6e2b-4070-a267-0010a9b2fa08",
   "metadata": {},
   "outputs": [
    {
     "name": "stdout",
     "output_type": "stream",
     "text": [
      "1317529\n",
      "Equal 0:\n",
      "0\n",
      "0.6085141199928047\n",
      "0.8560654072889478\n",
      "0.9764771781114495\n"
     ]
    }
   ],
   "source": [
    "\n",
    "tmp = agreement\n",
    "nvalid = len(tmp)\n",
    "print(nvalid)\n",
    "print('Equal 0:')\n",
    "print(np.sum(tmp == 0))\n",
    "print(np.sum(tmp > 0.9) / nvalid)\n",
    "print(np.sum(tmp > 0.8) / nvalid)\n",
    "print(np.sum(tmp > 0.5) / nvalid)"
   ]
  },
  {
   "cell_type": "code",
   "execution_count": 10,
   "id": "bec69a79-f495-4c6d-8e2d-396320f22728",
   "metadata": {},
   "outputs": [
    {
     "data": {
      "text/plain": [
       "Text(0, 0.5, 'Counts')"
      ]
     },
     "execution_count": 10,
     "metadata": {},
     "output_type": "execute_result"
    },
    {
     "data": {
      "image/png": "[encoded data removed]",
      "text/plain": [
       "<Figure size 432x288 with 1 Axes>"
      ]
     },
     "metadata": {
      "needs_background": "light"
     },
     "output_type": "display_data"
    }
   ],
   "source": [
    "plt.hist(agreement, bins=80)\n",
    "plt.xlabel('Agreement')\n",
    "plt.ylabel('Counts')"
   ]
  },
  {
   "cell_type": "code",
   "execution_count": 13,
   "id": "4c98d682-d164-42a3-b0e2-86b426ddb094",
   "metadata": {},
   "outputs": [
    {
     "name": "stdout",
     "output_type": "stream",
     "text": [
      "1317529\n"
     ]
    },
    {
     "data": {
      "text/plain": [
       "Text(0.5, 1.0, 'dt_COM')"
      ]
     },
     "execution_count": 13,
     "metadata": {},
     "output_type": "execute_result"
    },
    {
     "data": {
      "image/png": "[encoded data removed]",
      "text/plain": [
       "<Figure size 432x288 with 1 Axes>"
      ]
     },
     "metadata": {
      "needs_background": "light"
     },
     "output_type": "display_data"
    }
   ],
   "source": [
    "nbins = 40\n",
    "print(len(dt))\n",
    "plt.hist(dt, bins=nbins)\n",
    "plt.xlabel('dt (fs)')\n",
    "plt.ylabel('Counts')\n",
    "plt.title('dt_COM')\n",
    "\n",
    "#dt_RMS = f['dt_RMS']\n",
    "#dt = dt_RMS\n",
    "#plt.figure()\n",
    "#plt.hist(dt_RMS, bins=nbins)\n",
    "#plt.xlabel('dt (fs)')\n",
    "#plt.ylabel('Counts')\n",
    "#plt.title('dt_RMS')"
   ]
  },
  {
   "cell_type": "code",
   "execution_count": null,
   "id": "784486f2-8522-44a0-8cce-7f4495d4ae73",
   "metadata": {},
   "outputs": [],
   "source": []
  }
 ],
 "metadata": {
  "kernelspec": {
   "display_name": "LCLS-I py3",
   "language": "python",
   "name": "ana1-current-py3"
  },
  "language_info": {
   "codemirror_mode": {
    "name": "ipython",
    "version": 3
   },
   "file_extension": ".py",
   "mimetype": "text/x-python",
   "name": "python",
   "nbconvert_exporter": "python",
   "pygments_lexer": "ipython3",
   "version": "3.7.12"
  }
 },
 "nbformat": 4,
 "nbformat_minor": 5
}
