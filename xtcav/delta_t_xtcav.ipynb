{
 "cells": [
  {
   "cell_type": "code",
   "execution_count": 9,
   "id": "6805d9ab-607c-4177-ad7d-f06ededd1ed1",
   "metadata": {},
   "outputs": [
    {
     "name": "stdout",
     "output_type": "stream",
     "text": [
      "/reg/d/psdm/cxi/cxilv0418/scratch/northeyt/xtcav_stats_run43.h5\n",
      "<HDF5 file \"xtcav_stats_run43.h5\" (mode r)>\n"
     ]
    },
    {
     "data": {
      "text/plain": [
       "[<matplotlib.lines.Line2D at 0x7f4604d040d0>]"
      ]
     },
     "execution_count": 9,
     "metadata": {},
     "output_type": "execute_result"
    },
    {
     "data": {
      "image/png": "[encoded data removed]",
      "text/plain": [
       "<Figure size 432x288 with 1 Axes>"
      ]
     },
     "metadata": {
      "needs_background": "light"
     },
     "output_type": "display_data"
    }
   ],
   "source": [
    "import h5py\n",
    "import numpy as np\n",
    "import matplotlib.pyplot as plt\n",
    "import sys\n",
    "sys.path.append('../')\n",
    "# import my functions\n",
    "from define_experiment_run import experiment, run, scratch_dir, Nevents\n",
    "\n",
    "# load h5 file\n",
    "fname = '%sxtcav_stats_run%d.h5' % (scratch_dir, run)\n",
    "print(fname)\n",
    "f = h5py.File(fname, 'r')\n",
    "print(f)\n",
    "list(f.keys())\n",
    "t1 = np.squeeze(f['t1'])\n",
    "powerCOM = np.squeeze(f['powerCOM'])\n",
    "n = 3\n",
    "plt.plot(t1[n, :], powerCOM[, :])"
   ]
  },
  {
   "cell_type": "code",
   "execution_count": 17,
   "id": "e921510b-6e2b-4070-a267-0010a9b2fa08",
   "metadata": {},
   "outputs": [
    {
     "name": "stdout",
     "output_type": "stream",
     "text": [
      "Equal 0:\n",
      "508\n",
      "0.2978517722878625\n",
      "0.7749731471535983\n",
      "0.9235230934479055\n"
     ]
    }
   ],
   "source": [
    "n = 690\n",
    "nvalid = Nevents - n\n",
    "tmp = agreement[n:]\n",
    "print('Equal 0:')\n",
    "print(np.sum(tmp == 0))\n",
    "print(np.sum(tmp > 0.9) / nvalid)\n",
    "print(np.sum(tmp > 0.8) / nvalid)\n",
    "print(np.sum(tmp > 0.5) / nvalid)"
   ]
  },
  {
   "cell_type": "code",
   "execution_count": 14,
   "id": "bec69a79-f495-4c6d-8e2d-396320f22728",
   "metadata": {},
   "outputs": [
    {
     "data": {
      "text/plain": [
       "(array([1.000e+00, 0.000e+00, 1.000e+00, 1.000e+00, 1.000e+00, 5.080e+02,\n",
       "        1.000e+00, 0.000e+00, 1.000e+00, 5.000e+00, 2.000e+00, 4.000e+00,\n",
       "        7.000e+00, 1.300e+01, 9.000e+00, 1.900e+01, 6.000e+00, 1.500e+01,\n",
       "        2.100e+01, 2.100e+01, 1.500e+01, 1.700e+01, 3.100e+01, 2.600e+01,\n",
       "        2.900e+01, 3.900e+01, 6.800e+01, 7.000e+01, 9.600e+01, 1.110e+02,\n",
       "        1.260e+02, 1.540e+02, 2.260e+02, 3.630e+02, 4.590e+02, 8.260e+02,\n",
       "        1.466e+03, 2.161e+03, 1.908e+03, 4.830e+02]),\n",
       " array([-0.16006638, -0.13203764, -0.10400891, -0.07598018, -0.04795144,\n",
       "        -0.01992271,  0.00810603,  0.03613476,  0.06416349,  0.09219223,\n",
       "         0.12022096,  0.1482497 ,  0.17627843,  0.20430716,  0.2323359 ,\n",
       "         0.26036463,  0.28839336,  0.3164221 ,  0.34445083,  0.37247957,\n",
       "         0.4005083 ,  0.42853703,  0.45656577,  0.4845945 ,  0.51262324,\n",
       "         0.54065197,  0.5686807 ,  0.59670944,  0.62473817,  0.6527669 ,\n",
       "         0.68079564,  0.70882437,  0.73685311,  0.76488184,  0.79291057,\n",
       "         0.82093931,  0.84896804,  0.87699677,  0.90502551,  0.93305424,\n",
       "         0.96108298]),\n",
       " <BarContainer object of 40 artists>)"
      ]
     },
     "execution_count": 14,
     "metadata": {},
     "output_type": "execute_result"
    },
    {
     "data": {
      "image/png": "[encoded data removed]",
      "text/plain": [
       "<Figure size 432x288 with 1 Axes>"
      ]
     },
     "metadata": {
      "needs_background": "light"
     },
     "output_type": "display_data"
    }
   ],
   "source": [
    "plt.hist(agreement[n:], bins=40)"
   ]
  },
  {
   "cell_type": "code",
   "execution_count": null,
   "id": "4c98d682-d164-42a3-b0e2-86b426ddb094",
   "metadata": {},
   "outputs": [],
   "source": []
  }
 ],
 "metadata": {
  "kernelspec": {
   "display_name": "LCLS-I py3",
   "language": "python",
   "name": "ana1-current-py3"
  },
  "language_info": {
   "codemirror_mode": {
    "name": "ipython",
    "version": 3
   },
   "file_extension": ".py",
   "mimetype": "text/x-python",
   "name": "python",
   "nbconvert_exporter": "python",
   "pygments_lexer": "ipython3",
   "version": "3.7.12"
  }
 },
 "nbformat": 4,
 "nbformat_minor": 5
}
